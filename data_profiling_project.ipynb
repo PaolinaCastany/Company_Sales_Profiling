{
  "nbformat": 4,
  "nbformat_minor": 0,
  "metadata": {
    "colab": {
      "provenance": [],
      "toc_visible": true,
      "name": "data-profiling-project.ipynb"
    },
    "kernelspec": {
      "name": "python3",
      "display_name": "Python 3"
    },
    "language_info": {
      "name": "python"
    }
  },
  "cells": [
    {
      "cell_type": "markdown",
      "source": [
        "# **Initialization**"
      ],
      "metadata": {
        "id": "KntFE_wdily0"
      }
    },
    {
      "cell_type": "code",
      "execution_count": null,
      "metadata": {
        "id": "doHD1U1afQkJ"
      },
      "outputs": [],
      "source": [
        "import numpy as np\n",
        "import pandas as pd\n",
        "import matplotlib.pyplot as plt"
      ]
    },
    {
      "cell_type": "code",
      "source": [
        "from google.colab import drive\n",
        "drive.mount('/content/drive')"
      ],
      "metadata": {
        "colab": {
          "base_uri": "https://localhost:8080/"
        },
        "id": "PiaSp_qyfdgn",
        "outputId": "678c513d-ad5c-4231-feb9-56a4f2a09eb3",
        "collapsed": true
      },
      "execution_count": null,
      "outputs": [
        {
          "output_type": "stream",
          "name": "stdout",
          "text": [
            "Mounted at /content/drive\n"
          ]
        }
      ]
    },
    {
      "cell_type": "code",
      "source": [
        "df_company = pd.read_excel('/content/drive/MyDrive/2425MBD41_Project_Dataset.xlsx', sheet_name='COMPANY')\n",
        "df_investment = pd.read_excel('/content/drive/MyDrive/2425MBD41_Project_Dataset.xlsx', sheet_name='INVESTMENT')\n",
        "df_acquisition = pd.read_excel('/content/drive/MyDrive/2425MBD41_Project_Dataset.xlsx', sheet_name='ACQUISITION')\n",
        "df_employee = pd.read_excel('/content/drive/MyDrive/2425MBD41_Project_Dataset.xlsx', sheet_name='EMPLOYEE')\n",
        "\n",
        "df_company.head()"
      ],
      "metadata": {
        "colab": {
          "base_uri": "https://localhost:8080/",
          "height": 362
        },
        "id": "avCL03ErgvJ2",
        "outputId": "d1f57ed2-4163-4c78-a89a-90252ba2a90c",
        "collapsed": true
      },
      "execution_count": null,
      "outputs": [
        {
          "output_type": "execute_result",
          "data": {
            "text/plain": [
              "  COMPANY_NAME                                           CATEGORY  \\\n",
              "0      Twitter   Blogging Platforms, Messaging, SMS, Social Media   \n",
              "1    Ant Group  Banking, E-Commerce, Financial Services, FinTe...   \n",
              "2       Squire  Consumer, FinTech, Mobile Apps, Point of Sale,...   \n",
              "3       Xiaomi             Consumer Electronics, Internet, Mobile   \n",
              "4        maude  Consumer Goods, E-Commerce, Personal Health, W...   \n",
              "\n",
              "                                   LOCATION    FOUNDED_ON    EXITED_ON  \\\n",
              "0  San Francisco, California, United States  Mar 21, 2006  Nov 7, 2013   \n",
              "1                 Hangzhou, Zhejiang, China      Oct 2014            —   \n",
              "2         New York, New York, United States          2016            —   \n",
              "3                   Beijing, Beijing, China   Apr 4, 2010  Jul 9, 2018   \n",
              "4         Brooklyn, New York, United States          2018            —   \n",
              "\n",
              "  CLOSED_ON    REVENU_RANGE EMPLOYEE_NUMBER  \n",
              "0         —     $1B to $10B       1001-5000  \n",
              "1         —  $100M to $500M      5001-10000  \n",
              "2         —     $1M to $10M          51-100  \n",
              "3         —           $10B+          10001+  \n",
              "4         —     $1M to $10M            1-10  "
            ],
            "text/html": [
              "\n",
              "  <div id=\"df-74c267b0-6725-485a-9c82-f4f9de2728e4\" class=\"colab-df-container\">\n",
              "    <div>\n",
              "<style scoped>\n",
              "    .dataframe tbody tr th:only-of-type {\n",
              "        vertical-align: middle;\n",
              "    }\n",
              "\n",
              "    .dataframe tbody tr th {\n",
              "        vertical-align: top;\n",
              "    }\n",
              "\n",
              "    .dataframe thead th {\n",
              "        text-align: right;\n",
              "    }\n",
              "</style>\n",
              "<table border=\"1\" class=\"dataframe\">\n",
              "  <thead>\n",
              "    <tr style=\"text-align: right;\">\n",
              "      <th></th>\n",
              "      <th>COMPANY_NAME</th>\n",
              "      <th>CATEGORY</th>\n",
              "      <th>LOCATION</th>\n",
              "      <th>FOUNDED_ON</th>\n",
              "      <th>EXITED_ON</th>\n",
              "      <th>CLOSED_ON</th>\n",
              "      <th>REVENU_RANGE</th>\n",
              "      <th>EMPLOYEE_NUMBER</th>\n",
              "    </tr>\n",
              "  </thead>\n",
              "  <tbody>\n",
              "    <tr>\n",
              "      <th>0</th>\n",
              "      <td>Twitter</td>\n",
              "      <td>Blogging Platforms, Messaging, SMS, Social Media</td>\n",
              "      <td>San Francisco, California, United States</td>\n",
              "      <td>Mar 21, 2006</td>\n",
              "      <td>Nov 7, 2013</td>\n",
              "      <td>—</td>\n",
              "      <td>$1B to $10B</td>\n",
              "      <td>1001-5000</td>\n",
              "    </tr>\n",
              "    <tr>\n",
              "      <th>1</th>\n",
              "      <td>Ant Group</td>\n",
              "      <td>Banking, E-Commerce, Financial Services, FinTe...</td>\n",
              "      <td>Hangzhou, Zhejiang, China</td>\n",
              "      <td>Oct 2014</td>\n",
              "      <td>—</td>\n",
              "      <td>—</td>\n",
              "      <td>$100M to $500M</td>\n",
              "      <td>5001-10000</td>\n",
              "    </tr>\n",
              "    <tr>\n",
              "      <th>2</th>\n",
              "      <td>Squire</td>\n",
              "      <td>Consumer, FinTech, Mobile Apps, Point of Sale,...</td>\n",
              "      <td>New York, New York, United States</td>\n",
              "      <td>2016</td>\n",
              "      <td>—</td>\n",
              "      <td>—</td>\n",
              "      <td>$1M to $10M</td>\n",
              "      <td>51-100</td>\n",
              "    </tr>\n",
              "    <tr>\n",
              "      <th>3</th>\n",
              "      <td>Xiaomi</td>\n",
              "      <td>Consumer Electronics, Internet, Mobile</td>\n",
              "      <td>Beijing, Beijing, China</td>\n",
              "      <td>Apr 4, 2010</td>\n",
              "      <td>Jul 9, 2018</td>\n",
              "      <td>—</td>\n",
              "      <td>$10B+</td>\n",
              "      <td>10001+</td>\n",
              "    </tr>\n",
              "    <tr>\n",
              "      <th>4</th>\n",
              "      <td>maude</td>\n",
              "      <td>Consumer Goods, E-Commerce, Personal Health, W...</td>\n",
              "      <td>Brooklyn, New York, United States</td>\n",
              "      <td>2018</td>\n",
              "      <td>—</td>\n",
              "      <td>—</td>\n",
              "      <td>$1M to $10M</td>\n",
              "      <td>1-10</td>\n",
              "    </tr>\n",
              "  </tbody>\n",
              "</table>\n",
              "</div>\n",
              "    <div class=\"colab-df-buttons\">\n",
              "\n",
              "  <div class=\"colab-df-container\">\n",
              "    <button class=\"colab-df-convert\" onclick=\"convertToInteractive('df-74c267b0-6725-485a-9c82-f4f9de2728e4')\"\n",
              "            title=\"Convert this dataframe to an interactive table.\"\n",
              "            style=\"display:none;\">\n",
              "\n",
              "  <svg xmlns=\"http://www.w3.org/2000/svg\" height=\"24px\" viewBox=\"0 -960 960 960\">\n",
              "    <path d=\"M120-120v-720h720v720H120Zm60-500h600v-160H180v160Zm220 220h160v-160H400v160Zm0 220h160v-160H400v160ZM180-400h160v-160H180v160Zm440 0h160v-160H620v160ZM180-180h160v-160H180v160Zm440 0h160v-160H620v160Z\"/>\n",
              "  </svg>\n",
              "    </button>\n",
              "\n",
              "  <style>\n",
              "    .colab-df-container {\n",
              "      display:flex;\n",
              "      gap: 12px;\n",
              "    }\n",
              "\n",
              "    .colab-df-convert {\n",
              "      background-color: #E8F0FE;\n",
              "      border: none;\n",
              "      border-radius: 50%;\n",
              "      cursor: pointer;\n",
              "      display: none;\n",
              "      fill: #1967D2;\n",
              "      height: 32px;\n",
              "      padding: 0 0 0 0;\n",
              "      width: 32px;\n",
              "    }\n",
              "\n",
              "    .colab-df-convert:hover {\n",
              "      background-color: #E2EBFA;\n",
              "      box-shadow: 0px 1px 2px rgba(60, 64, 67, 0.3), 0px 1px 3px 1px rgba(60, 64, 67, 0.15);\n",
              "      fill: #174EA6;\n",
              "    }\n",
              "\n",
              "    .colab-df-buttons div {\n",
              "      margin-bottom: 4px;\n",
              "    }\n",
              "\n",
              "    [theme=dark] .colab-df-convert {\n",
              "      background-color: #3B4455;\n",
              "      fill: #D2E3FC;\n",
              "    }\n",
              "\n",
              "    [theme=dark] .colab-df-convert:hover {\n",
              "      background-color: #434B5C;\n",
              "      box-shadow: 0px 1px 3px 1px rgba(0, 0, 0, 0.15);\n",
              "      filter: drop-shadow(0px 1px 2px rgba(0, 0, 0, 0.3));\n",
              "      fill: #FFFFFF;\n",
              "    }\n",
              "  </style>\n",
              "\n",
              "    <script>\n",
              "      const buttonEl =\n",
              "        document.querySelector('#df-74c267b0-6725-485a-9c82-f4f9de2728e4 button.colab-df-convert');\n",
              "      buttonEl.style.display =\n",
              "        google.colab.kernel.accessAllowed ? 'block' : 'none';\n",
              "\n",
              "      async function convertToInteractive(key) {\n",
              "        const element = document.querySelector('#df-74c267b0-6725-485a-9c82-f4f9de2728e4');\n",
              "        const dataTable =\n",
              "          await google.colab.kernel.invokeFunction('convertToInteractive',\n",
              "                                                    [key], {});\n",
              "        if (!dataTable) return;\n",
              "\n",
              "        const docLinkHtml = 'Like what you see? Visit the ' +\n",
              "          '<a target=\"_blank\" href=https://colab.research.google.com/notebooks/data_table.ipynb>data table notebook</a>'\n",
              "          + ' to learn more about interactive tables.';\n",
              "        element.innerHTML = '';\n",
              "        dataTable['output_type'] = 'display_data';\n",
              "        await google.colab.output.renderOutput(dataTable, element);\n",
              "        const docLink = document.createElement('div');\n",
              "        docLink.innerHTML = docLinkHtml;\n",
              "        element.appendChild(docLink);\n",
              "      }\n",
              "    </script>\n",
              "  </div>\n",
              "\n",
              "\n",
              "<div id=\"df-4e2f7fcb-7039-4712-aa23-b187a6b60c56\">\n",
              "  <button class=\"colab-df-quickchart\" onclick=\"quickchart('df-4e2f7fcb-7039-4712-aa23-b187a6b60c56')\"\n",
              "            title=\"Suggest charts\"\n",
              "            style=\"display:none;\">\n",
              "\n",
              "<svg xmlns=\"http://www.w3.org/2000/svg\" height=\"24px\"viewBox=\"0 0 24 24\"\n",
              "     width=\"24px\">\n",
              "    <g>\n",
              "        <path d=\"M19 3H5c-1.1 0-2 .9-2 2v14c0 1.1.9 2 2 2h14c1.1 0 2-.9 2-2V5c0-1.1-.9-2-2-2zM9 17H7v-7h2v7zm4 0h-2V7h2v10zm4 0h-2v-4h2v4z\"/>\n",
              "    </g>\n",
              "</svg>\n",
              "  </button>\n",
              "\n",
              "<style>\n",
              "  .colab-df-quickchart {\n",
              "      --bg-color: #E8F0FE;\n",
              "      --fill-color: #1967D2;\n",
              "      --hover-bg-color: #E2EBFA;\n",
              "      --hover-fill-color: #174EA6;\n",
              "      --disabled-fill-color: #AAA;\n",
              "      --disabled-bg-color: #DDD;\n",
              "  }\n",
              "\n",
              "  [theme=dark] .colab-df-quickchart {\n",
              "      --bg-color: #3B4455;\n",
              "      --fill-color: #D2E3FC;\n",
              "      --hover-bg-color: #434B5C;\n",
              "      --hover-fill-color: #FFFFFF;\n",
              "      --disabled-bg-color: #3B4455;\n",
              "      --disabled-fill-color: #666;\n",
              "  }\n",
              "\n",
              "  .colab-df-quickchart {\n",
              "    background-color: var(--bg-color);\n",
              "    border: none;\n",
              "    border-radius: 50%;\n",
              "    cursor: pointer;\n",
              "    display: none;\n",
              "    fill: var(--fill-color);\n",
              "    height: 32px;\n",
              "    padding: 0;\n",
              "    width: 32px;\n",
              "  }\n",
              "\n",
              "  .colab-df-quickchart:hover {\n",
              "    background-color: var(--hover-bg-color);\n",
              "    box-shadow: 0 1px 2px rgba(60, 64, 67, 0.3), 0 1px 3px 1px rgba(60, 64, 67, 0.15);\n",
              "    fill: var(--button-hover-fill-color);\n",
              "  }\n",
              "\n",
              "  .colab-df-quickchart-complete:disabled,\n",
              "  .colab-df-quickchart-complete:disabled:hover {\n",
              "    background-color: var(--disabled-bg-color);\n",
              "    fill: var(--disabled-fill-color);\n",
              "    box-shadow: none;\n",
              "  }\n",
              "\n",
              "  .colab-df-spinner {\n",
              "    border: 2px solid var(--fill-color);\n",
              "    border-color: transparent;\n",
              "    border-bottom-color: var(--fill-color);\n",
              "    animation:\n",
              "      spin 1s steps(1) infinite;\n",
              "  }\n",
              "\n",
              "  @keyframes spin {\n",
              "    0% {\n",
              "      border-color: transparent;\n",
              "      border-bottom-color: var(--fill-color);\n",
              "      border-left-color: var(--fill-color);\n",
              "    }\n",
              "    20% {\n",
              "      border-color: transparent;\n",
              "      border-left-color: var(--fill-color);\n",
              "      border-top-color: var(--fill-color);\n",
              "    }\n",
              "    30% {\n",
              "      border-color: transparent;\n",
              "      border-left-color: var(--fill-color);\n",
              "      border-top-color: var(--fill-color);\n",
              "      border-right-color: var(--fill-color);\n",
              "    }\n",
              "    40% {\n",
              "      border-color: transparent;\n",
              "      border-right-color: var(--fill-color);\n",
              "      border-top-color: var(--fill-color);\n",
              "    }\n",
              "    60% {\n",
              "      border-color: transparent;\n",
              "      border-right-color: var(--fill-color);\n",
              "    }\n",
              "    80% {\n",
              "      border-color: transparent;\n",
              "      border-right-color: var(--fill-color);\n",
              "      border-bottom-color: var(--fill-color);\n",
              "    }\n",
              "    90% {\n",
              "      border-color: transparent;\n",
              "      border-bottom-color: var(--fill-color);\n",
              "    }\n",
              "  }\n",
              "</style>\n",
              "\n",
              "  <script>\n",
              "    async function quickchart(key) {\n",
              "      const quickchartButtonEl =\n",
              "        document.querySelector('#' + key + ' button');\n",
              "      quickchartButtonEl.disabled = true;  // To prevent multiple clicks.\n",
              "      quickchartButtonEl.classList.add('colab-df-spinner');\n",
              "      try {\n",
              "        const charts = await google.colab.kernel.invokeFunction(\n",
              "            'suggestCharts', [key], {});\n",
              "      } catch (error) {\n",
              "        console.error('Error during call to suggestCharts:', error);\n",
              "      }\n",
              "      quickchartButtonEl.classList.remove('colab-df-spinner');\n",
              "      quickchartButtonEl.classList.add('colab-df-quickchart-complete');\n",
              "    }\n",
              "    (() => {\n",
              "      let quickchartButtonEl =\n",
              "        document.querySelector('#df-4e2f7fcb-7039-4712-aa23-b187a6b60c56 button');\n",
              "      quickchartButtonEl.style.display =\n",
              "        google.colab.kernel.accessAllowed ? 'block' : 'none';\n",
              "    })();\n",
              "  </script>\n",
              "</div>\n",
              "\n",
              "    </div>\n",
              "  </div>\n"
            ],
            "application/vnd.google.colaboratory.intrinsic+json": {
              "type": "dataframe",
              "variable_name": "df_company",
              "summary": "{\n  \"name\": \"df_company\",\n  \"rows\": 1000,\n  \"fields\": [\n    {\n      \"column\": \"COMPANY_NAME\",\n      \"properties\": {\n        \"dtype\": \"string\",\n        \"num_unique_values\": 1000,\n        \"samples\": [\n          \"CARS24\",\n          \"Kyruus\",\n          \"Talkdesk\"\n        ],\n        \"semantic_type\": \"\",\n        \"description\": \"\"\n      }\n    },\n    {\n      \"column\": \"CATEGORY\",\n      \"properties\": {\n        \"dtype\": \"string\",\n        \"num_unique_values\": 977,\n        \"samples\": [\n          \"Apps, Diabetes, Health Care, Medical\",\n          \"Marketplace, Online Portals, Real Estate\",\n          \"Financial Services, FinTech, Internet, Personal Finance\"\n        ],\n        \"semantic_type\": \"\",\n        \"description\": \"\"\n      }\n    },\n    {\n      \"column\": \"LOCATION\",\n      \"properties\": {\n        \"dtype\": \"category\",\n        \"num_unique_values\": 255,\n        \"samples\": [\n          \"Norwalk, Connecticut, United States\",\n          \"Cupertino, California, United States\",\n          \"San Diego, California, United States\"\n        ],\n        \"semantic_type\": \"\",\n        \"description\": \"\"\n      }\n    },\n    {\n      \"column\": \"FOUNDED_ON\",\n      \"properties\": {\n        \"dtype\": \"category\",\n        \"num_unique_values\": 428,\n        \"samples\": [\n          \"Dec 1, 2016\",\n          \"1847\",\n          \"Mar 2010\"\n        ],\n        \"semantic_type\": \"\",\n        \"description\": \"\"\n      }\n    },\n    {\n      \"column\": \"EXITED_ON\",\n      \"properties\": {\n        \"dtype\": \"category\",\n        \"num_unique_values\": 269,\n        \"samples\": [\n          \"Dec 15, 2020\",\n          \"Sep 22, 2020\",\n          \"Nov 15, 2020\"\n        ],\n        \"semantic_type\": \"\",\n        \"description\": \"\"\n      }\n    },\n    {\n      \"column\": \"CLOSED_ON\",\n      \"properties\": {\n        \"dtype\": \"category\",\n        \"num_unique_values\": 6,\n        \"samples\": [\n          \"\\u2014\",\n          \"Jan 6, 2020\",\n          \"Jan 2020\"\n        ],\n        \"semantic_type\": \"\",\n        \"description\": \"\"\n      }\n    },\n    {\n      \"column\": \"REVENU_RANGE\",\n      \"properties\": {\n        \"dtype\": \"category\",\n        \"num_unique_values\": 9,\n        \"samples\": [\n          \"\\u2014\",\n          \"$100M to $500M\",\n          \"$10M to $50M\"\n        ],\n        \"semantic_type\": \"\",\n        \"description\": \"\"\n      }\n    },\n    {\n      \"column\": \"EMPLOYEE_NUMBER\",\n      \"properties\": {\n        \"dtype\": \"category\",\n        \"num_unique_values\": 10,\n        \"samples\": [\n          \"11-50\",\n          \"5001-10000\",\n          \"101-250\"\n        ],\n        \"semantic_type\": \"\",\n        \"description\": \"\"\n      }\n    }\n  ]\n}"
            }
          },
          "metadata": {},
          "execution_count": 4
        }
      ]
    },
    {
      "cell_type": "markdown",
      "source": [
        "# **COMPANY SHEET ANALYSIS**"
      ],
      "metadata": {
        "id": "_jQovJvGjVfA"
      }
    },
    {
      "cell_type": "markdown",
      "source": [
        "\n",
        "\n",
        "1. What is the total number of companies in the dataset?"
      ],
      "metadata": {
        "id": "z2nnBh_gkr4K"
      }
    },
    {
      "cell_type": "code",
      "source": [
        "total_companies = df_company['COMPANY_NAME'].nunique()\n",
        "print('The total number of companies is',total_companies)"
      ],
      "metadata": {
        "colab": {
          "base_uri": "https://localhost:8080/"
        },
        "id": "YWIVEjtTjASW",
        "outputId": "c8f77a88-950c-41a2-c0c2-1478a0e3014d"
      },
      "execution_count": null,
      "outputs": [
        {
          "output_type": "stream",
          "name": "stdout",
          "text": [
            "The total number of companies is 1000\n"
          ]
        }
      ]
    },
    {
      "cell_type": "markdown",
      "source": [
        "2. How are they distributed by country?"
      ],
      "metadata": {
        "id": "ILBaQM59b1Yy"
      }
    },
    {
      "cell_type": "code",
      "source": [
        "df_company[['CITY', 'STATE', 'COUNTRY']] = df_company['LOCATION'].str.split(', ', expand=True, n=2)\n",
        "df_company.head()"
      ],
      "metadata": {
        "colab": {
          "base_uri": "https://localhost:8080/",
          "height": 573
        },
        "id": "1zSJTWqzbvbh",
        "outputId": "c201f724-8b0c-4a1e-c9c4-11f0d4676791"
      },
      "execution_count": null,
      "outputs": [
        {
          "output_type": "execute_result",
          "data": {
            "text/plain": [
              "  COMPANY_NAME                                           CATEGORY  \\\n",
              "0      Twitter   Blogging Platforms, Messaging, SMS, Social Media   \n",
              "1    Ant Group  Banking, E-Commerce, Financial Services, FinTe...   \n",
              "2       Squire  Consumer, FinTech, Mobile Apps, Point of Sale,...   \n",
              "3       Xiaomi             Consumer Electronics, Internet, Mobile   \n",
              "4        maude  Consumer Goods, E-Commerce, Personal Health, W...   \n",
              "\n",
              "                                   LOCATION    FOUNDED_ON    EXITED_ON  \\\n",
              "0  San Francisco, California, United States  Mar 21, 2006  Nov 7, 2013   \n",
              "1                 Hangzhou, Zhejiang, China      Oct 2014            —   \n",
              "2         New York, New York, United States          2016            —   \n",
              "3                   Beijing, Beijing, China   Apr 4, 2010  Jul 9, 2018   \n",
              "4         Brooklyn, New York, United States          2018            —   \n",
              "\n",
              "  CLOSED_ON    REVENU_RANGE EMPLOYEE_NUMBER           CITY       STATE  \\\n",
              "0         —     $1B to $10B       1001-5000  San Francisco  California   \n",
              "1         —  $100M to $500M      5001-10000       Hangzhou    Zhejiang   \n",
              "2         —     $1M to $10M          51-100       New York    New York   \n",
              "3         —           $10B+          10001+        Beijing     Beijing   \n",
              "4         —     $1M to $10M            1-10       Brooklyn    New York   \n",
              "\n",
              "         COUNTRY  \n",
              "0  United States  \n",
              "1          China  \n",
              "2  United States  \n",
              "3          China  \n",
              "4  United States  "
            ],
            "text/html": [
              "\n",
              "  <div id=\"df-1d080c0b-b740-49a9-84d2-bd3eaef0d4d1\" class=\"colab-df-container\">\n",
              "    <div>\n",
              "<style scoped>\n",
              "    .dataframe tbody tr th:only-of-type {\n",
              "        vertical-align: middle;\n",
              "    }\n",
              "\n",
              "    .dataframe tbody tr th {\n",
              "        vertical-align: top;\n",
              "    }\n",
              "\n",
              "    .dataframe thead th {\n",
              "        text-align: right;\n",
              "    }\n",
              "</style>\n",
              "<table border=\"1\" class=\"dataframe\">\n",
              "  <thead>\n",
              "    <tr style=\"text-align: right;\">\n",
              "      <th></th>\n",
              "      <th>COMPANY_NAME</th>\n",
              "      <th>CATEGORY</th>\n",
              "      <th>LOCATION</th>\n",
              "      <th>FOUNDED_ON</th>\n",
              "      <th>EXITED_ON</th>\n",
              "      <th>CLOSED_ON</th>\n",
              "      <th>REVENU_RANGE</th>\n",
              "      <th>EMPLOYEE_NUMBER</th>\n",
              "      <th>CITY</th>\n",
              "      <th>STATE</th>\n",
              "      <th>COUNTRY</th>\n",
              "    </tr>\n",
              "  </thead>\n",
              "  <tbody>\n",
              "    <tr>\n",
              "      <th>0</th>\n",
              "      <td>Twitter</td>\n",
              "      <td>Blogging Platforms, Messaging, SMS, Social Media</td>\n",
              "      <td>San Francisco, California, United States</td>\n",
              "      <td>Mar 21, 2006</td>\n",
              "      <td>Nov 7, 2013</td>\n",
              "      <td>—</td>\n",
              "      <td>$1B to $10B</td>\n",
              "      <td>1001-5000</td>\n",
              "      <td>San Francisco</td>\n",
              "      <td>California</td>\n",
              "      <td>United States</td>\n",
              "    </tr>\n",
              "    <tr>\n",
              "      <th>1</th>\n",
              "      <td>Ant Group</td>\n",
              "      <td>Banking, E-Commerce, Financial Services, FinTe...</td>\n",
              "      <td>Hangzhou, Zhejiang, China</td>\n",
              "      <td>Oct 2014</td>\n",
              "      <td>—</td>\n",
              "      <td>—</td>\n",
              "      <td>$100M to $500M</td>\n",
              "      <td>5001-10000</td>\n",
              "      <td>Hangzhou</td>\n",
              "      <td>Zhejiang</td>\n",
              "      <td>China</td>\n",
              "    </tr>\n",
              "    <tr>\n",
              "      <th>2</th>\n",
              "      <td>Squire</td>\n",
              "      <td>Consumer, FinTech, Mobile Apps, Point of Sale,...</td>\n",
              "      <td>New York, New York, United States</td>\n",
              "      <td>2016</td>\n",
              "      <td>—</td>\n",
              "      <td>—</td>\n",
              "      <td>$1M to $10M</td>\n",
              "      <td>51-100</td>\n",
              "      <td>New York</td>\n",
              "      <td>New York</td>\n",
              "      <td>United States</td>\n",
              "    </tr>\n",
              "    <tr>\n",
              "      <th>3</th>\n",
              "      <td>Xiaomi</td>\n",
              "      <td>Consumer Electronics, Internet, Mobile</td>\n",
              "      <td>Beijing, Beijing, China</td>\n",
              "      <td>Apr 4, 2010</td>\n",
              "      <td>Jul 9, 2018</td>\n",
              "      <td>—</td>\n",
              "      <td>$10B+</td>\n",
              "      <td>10001+</td>\n",
              "      <td>Beijing</td>\n",
              "      <td>Beijing</td>\n",
              "      <td>China</td>\n",
              "    </tr>\n",
              "    <tr>\n",
              "      <th>4</th>\n",
              "      <td>maude</td>\n",
              "      <td>Consumer Goods, E-Commerce, Personal Health, W...</td>\n",
              "      <td>Brooklyn, New York, United States</td>\n",
              "      <td>2018</td>\n",
              "      <td>—</td>\n",
              "      <td>—</td>\n",
              "      <td>$1M to $10M</td>\n",
              "      <td>1-10</td>\n",
              "      <td>Brooklyn</td>\n",
              "      <td>New York</td>\n",
              "      <td>United States</td>\n",
              "    </tr>\n",
              "  </tbody>\n",
              "</table>\n",
              "</div>\n",
              "    <div class=\"colab-df-buttons\">\n",
              "\n",
              "  <div class=\"colab-df-container\">\n",
              "    <button class=\"colab-df-convert\" onclick=\"convertToInteractive('df-1d080c0b-b740-49a9-84d2-bd3eaef0d4d1')\"\n",
              "            title=\"Convert this dataframe to an interactive table.\"\n",
              "            style=\"display:none;\">\n",
              "\n",
              "  <svg xmlns=\"http://www.w3.org/2000/svg\" height=\"24px\" viewBox=\"0 -960 960 960\">\n",
              "    <path d=\"M120-120v-720h720v720H120Zm60-500h600v-160H180v160Zm220 220h160v-160H400v160Zm0 220h160v-160H400v160ZM180-400h160v-160H180v160Zm440 0h160v-160H620v160ZM180-180h160v-160H180v160Zm440 0h160v-160H620v160Z\"/>\n",
              "  </svg>\n",
              "    </button>\n",
              "\n",
              "  <style>\n",
              "    .colab-df-container {\n",
              "      display:flex;\n",
              "      gap: 12px;\n",
              "    }\n",
              "\n",
              "    .colab-df-convert {\n",
              "      background-color: #E8F0FE;\n",
              "      border: none;\n",
              "      border-radius: 50%;\n",
              "      cursor: pointer;\n",
              "      display: none;\n",
              "      fill: #1967D2;\n",
              "      height: 32px;\n",
              "      padding: 0 0 0 0;\n",
              "      width: 32px;\n",
              "    }\n",
              "\n",
              "    .colab-df-convert:hover {\n",
              "      background-color: #E2EBFA;\n",
              "      box-shadow: 0px 1px 2px rgba(60, 64, 67, 0.3), 0px 1px 3px 1px rgba(60, 64, 67, 0.15);\n",
              "      fill: #174EA6;\n",
              "    }\n",
              "\n",
              "    .colab-df-buttons div {\n",
              "      margin-bottom: 4px;\n",
              "    }\n",
              "\n",
              "    [theme=dark] .colab-df-convert {\n",
              "      background-color: #3B4455;\n",
              "      fill: #D2E3FC;\n",
              "    }\n",
              "\n",
              "    [theme=dark] .colab-df-convert:hover {\n",
              "      background-color: #434B5C;\n",
              "      box-shadow: 0px 1px 3px 1px rgba(0, 0, 0, 0.15);\n",
              "      filter: drop-shadow(0px 1px 2px rgba(0, 0, 0, 0.3));\n",
              "      fill: #FFFFFF;\n",
              "    }\n",
              "  </style>\n",
              "\n",
              "    <script>\n",
              "      const buttonEl =\n",
              "        document.querySelector('#df-1d080c0b-b740-49a9-84d2-bd3eaef0d4d1 button.colab-df-convert');\n",
              "      buttonEl.style.display =\n",
              "        google.colab.kernel.accessAllowed ? 'block' : 'none';\n",
              "\n",
              "      async function convertToInteractive(key) {\n",
              "        const element = document.querySelector('#df-1d080c0b-b740-49a9-84d2-bd3eaef0d4d1');\n",
              "        const dataTable =\n",
              "          await google.colab.kernel.invokeFunction('convertToInteractive',\n",
              "                                                    [key], {});\n",
              "        if (!dataTable) return;\n",
              "\n",
              "        const docLinkHtml = 'Like what you see? Visit the ' +\n",
              "          '<a target=\"_blank\" href=https://colab.research.google.com/notebooks/data_table.ipynb>data table notebook</a>'\n",
              "          + ' to learn more about interactive tables.';\n",
              "        element.innerHTML = '';\n",
              "        dataTable['output_type'] = 'display_data';\n",
              "        await google.colab.output.renderOutput(dataTable, element);\n",
              "        const docLink = document.createElement('div');\n",
              "        docLink.innerHTML = docLinkHtml;\n",
              "        element.appendChild(docLink);\n",
              "      }\n",
              "    </script>\n",
              "  </div>\n",
              "\n",
              "\n",
              "<div id=\"df-78e3a48a-2f12-48a4-85bc-6ec32cccf280\">\n",
              "  <button class=\"colab-df-quickchart\" onclick=\"quickchart('df-78e3a48a-2f12-48a4-85bc-6ec32cccf280')\"\n",
              "            title=\"Suggest charts\"\n",
              "            style=\"display:none;\">\n",
              "\n",
              "<svg xmlns=\"http://www.w3.org/2000/svg\" height=\"24px\"viewBox=\"0 0 24 24\"\n",
              "     width=\"24px\">\n",
              "    <g>\n",
              "        <path d=\"M19 3H5c-1.1 0-2 .9-2 2v14c0 1.1.9 2 2 2h14c1.1 0 2-.9 2-2V5c0-1.1-.9-2-2-2zM9 17H7v-7h2v7zm4 0h-2V7h2v10zm4 0h-2v-4h2v4z\"/>\n",
              "    </g>\n",
              "</svg>\n",
              "  </button>\n",
              "\n",
              "<style>\n",
              "  .colab-df-quickchart {\n",
              "      --bg-color: #E8F0FE;\n",
              "      --fill-color: #1967D2;\n",
              "      --hover-bg-color: #E2EBFA;\n",
              "      --hover-fill-color: #174EA6;\n",
              "      --disabled-fill-color: #AAA;\n",
              "      --disabled-bg-color: #DDD;\n",
              "  }\n",
              "\n",
              "  [theme=dark] .colab-df-quickchart {\n",
              "      --bg-color: #3B4455;\n",
              "      --fill-color: #D2E3FC;\n",
              "      --hover-bg-color: #434B5C;\n",
              "      --hover-fill-color: #FFFFFF;\n",
              "      --disabled-bg-color: #3B4455;\n",
              "      --disabled-fill-color: #666;\n",
              "  }\n",
              "\n",
              "  .colab-df-quickchart {\n",
              "    background-color: var(--bg-color);\n",
              "    border: none;\n",
              "    border-radius: 50%;\n",
              "    cursor: pointer;\n",
              "    display: none;\n",
              "    fill: var(--fill-color);\n",
              "    height: 32px;\n",
              "    padding: 0;\n",
              "    width: 32px;\n",
              "  }\n",
              "\n",
              "  .colab-df-quickchart:hover {\n",
              "    background-color: var(--hover-bg-color);\n",
              "    box-shadow: 0 1px 2px rgba(60, 64, 67, 0.3), 0 1px 3px 1px rgba(60, 64, 67, 0.15);\n",
              "    fill: var(--button-hover-fill-color);\n",
              "  }\n",
              "\n",
              "  .colab-df-quickchart-complete:disabled,\n",
              "  .colab-df-quickchart-complete:disabled:hover {\n",
              "    background-color: var(--disabled-bg-color);\n",
              "    fill: var(--disabled-fill-color);\n",
              "    box-shadow: none;\n",
              "  }\n",
              "\n",
              "  .colab-df-spinner {\n",
              "    border: 2px solid var(--fill-color);\n",
              "    border-color: transparent;\n",
              "    border-bottom-color: var(--fill-color);\n",
              "    animation:\n",
              "      spin 1s steps(1) infinite;\n",
              "  }\n",
              "\n",
              "  @keyframes spin {\n",
              "    0% {\n",
              "      border-color: transparent;\n",
              "      border-bottom-color: var(--fill-color);\n",
              "      border-left-color: var(--fill-color);\n",
              "    }\n",
              "    20% {\n",
              "      border-color: transparent;\n",
              "      border-left-color: var(--fill-color);\n",
              "      border-top-color: var(--fill-color);\n",
              "    }\n",
              "    30% {\n",
              "      border-color: transparent;\n",
              "      border-left-color: var(--fill-color);\n",
              "      border-top-color: var(--fill-color);\n",
              "      border-right-color: var(--fill-color);\n",
              "    }\n",
              "    40% {\n",
              "      border-color: transparent;\n",
              "      border-right-color: var(--fill-color);\n",
              "      border-top-color: var(--fill-color);\n",
              "    }\n",
              "    60% {\n",
              "      border-color: transparent;\n",
              "      border-right-color: var(--fill-color);\n",
              "    }\n",
              "    80% {\n",
              "      border-color: transparent;\n",
              "      border-right-color: var(--fill-color);\n",
              "      border-bottom-color: var(--fill-color);\n",
              "    }\n",
              "    90% {\n",
              "      border-color: transparent;\n",
              "      border-bottom-color: var(--fill-color);\n",
              "    }\n",
              "  }\n",
              "</style>\n",
              "\n",
              "  <script>\n",
              "    async function quickchart(key) {\n",
              "      const quickchartButtonEl =\n",
              "        document.querySelector('#' + key + ' button');\n",
              "      quickchartButtonEl.disabled = true;  // To prevent multiple clicks.\n",
              "      quickchartButtonEl.classList.add('colab-df-spinner');\n",
              "      try {\n",
              "        const charts = await google.colab.kernel.invokeFunction(\n",
              "            'suggestCharts', [key], {});\n",
              "      } catch (error) {\n",
              "        console.error('Error during call to suggestCharts:', error);\n",
              "      }\n",
              "      quickchartButtonEl.classList.remove('colab-df-spinner');\n",
              "      quickchartButtonEl.classList.add('colab-df-quickchart-complete');\n",
              "    }\n",
              "    (() => {\n",
              "      let quickchartButtonEl =\n",
              "        document.querySelector('#df-78e3a48a-2f12-48a4-85bc-6ec32cccf280 button');\n",
              "      quickchartButtonEl.style.display =\n",
              "        google.colab.kernel.accessAllowed ? 'block' : 'none';\n",
              "    })();\n",
              "  </script>\n",
              "</div>\n",
              "\n",
              "    </div>\n",
              "  </div>\n"
            ],
            "application/vnd.google.colaboratory.intrinsic+json": {
              "type": "dataframe",
              "variable_name": "df_company",
              "summary": "{\n  \"name\": \"df_company\",\n  \"rows\": 1000,\n  \"fields\": [\n    {\n      \"column\": \"COMPANY_NAME\",\n      \"properties\": {\n        \"dtype\": \"string\",\n        \"num_unique_values\": 1000,\n        \"samples\": [\n          \"CARS24\",\n          \"Kyruus\",\n          \"Talkdesk\"\n        ],\n        \"semantic_type\": \"\",\n        \"description\": \"\"\n      }\n    },\n    {\n      \"column\": \"CATEGORY\",\n      \"properties\": {\n        \"dtype\": \"string\",\n        \"num_unique_values\": 977,\n        \"samples\": [\n          \"Apps, Diabetes, Health Care, Medical\",\n          \"Marketplace, Online Portals, Real Estate\",\n          \"Financial Services, FinTech, Internet, Personal Finance\"\n        ],\n        \"semantic_type\": \"\",\n        \"description\": \"\"\n      }\n    },\n    {\n      \"column\": \"LOCATION\",\n      \"properties\": {\n        \"dtype\": \"category\",\n        \"num_unique_values\": 255,\n        \"samples\": [\n          \"Norwalk, Connecticut, United States\",\n          \"Cupertino, California, United States\",\n          \"San Diego, California, United States\"\n        ],\n        \"semantic_type\": \"\",\n        \"description\": \"\"\n      }\n    },\n    {\n      \"column\": \"FOUNDED_ON\",\n      \"properties\": {\n        \"dtype\": \"category\",\n        \"num_unique_values\": 428,\n        \"samples\": [\n          \"Dec 1, 2016\",\n          \"1847\",\n          \"Mar 2010\"\n        ],\n        \"semantic_type\": \"\",\n        \"description\": \"\"\n      }\n    },\n    {\n      \"column\": \"EXITED_ON\",\n      \"properties\": {\n        \"dtype\": \"category\",\n        \"num_unique_values\": 269,\n        \"samples\": [\n          \"Dec 15, 2020\",\n          \"Sep 22, 2020\",\n          \"Nov 15, 2020\"\n        ],\n        \"semantic_type\": \"\",\n        \"description\": \"\"\n      }\n    },\n    {\n      \"column\": \"CLOSED_ON\",\n      \"properties\": {\n        \"dtype\": \"category\",\n        \"num_unique_values\": 6,\n        \"samples\": [\n          \"\\u2014\",\n          \"Jan 6, 2020\",\n          \"Jan 2020\"\n        ],\n        \"semantic_type\": \"\",\n        \"description\": \"\"\n      }\n    },\n    {\n      \"column\": \"REVENU_RANGE\",\n      \"properties\": {\n        \"dtype\": \"category\",\n        \"num_unique_values\": 9,\n        \"samples\": [\n          \"\\u2014\",\n          \"$100M to $500M\",\n          \"$10M to $50M\"\n        ],\n        \"semantic_type\": \"\",\n        \"description\": \"\"\n      }\n    },\n    {\n      \"column\": \"EMPLOYEE_NUMBER\",\n      \"properties\": {\n        \"dtype\": \"category\",\n        \"num_unique_values\": 10,\n        \"samples\": [\n          \"11-50\",\n          \"5001-10000\",\n          \"101-250\"\n        ],\n        \"semantic_type\": \"\",\n        \"description\": \"\"\n      }\n    },\n    {\n      \"column\": \"CITY\",\n      \"properties\": {\n        \"dtype\": \"category\",\n        \"num_unique_values\": 252,\n        \"samples\": [\n          \"Minneapolis\",\n          \"Cupertino\",\n          \"Petaluma\"\n        ],\n        \"semantic_type\": \"\",\n        \"description\": \"\"\n      }\n    },\n    {\n      \"column\": \"STATE\",\n      \"properties\": {\n        \"dtype\": \"category\",\n        \"num_unique_values\": 115,\n        \"samples\": [\n          \"Minnesota\",\n          \"Yerushalayim\",\n          \"Central Region\"\n        ],\n        \"semantic_type\": \"\",\n        \"description\": \"\"\n      }\n    },\n    {\n      \"column\": \"COUNTRY\",\n      \"properties\": {\n        \"dtype\": \"category\",\n        \"num_unique_values\": 46,\n        \"samples\": [\n          \"Estonia\",\n          \"Thailand\",\n          \"Italy\"\n        ],\n        \"semantic_type\": \"\",\n        \"description\": \"\"\n      }\n    }\n  ]\n}"
            }
          },
          "metadata": {},
          "execution_count": 18
        }
      ]
    },
    {
      "cell_type": "code",
      "source": [
        "industry_distribution = df_company['COUNTRY'].value_counts()\n",
        "industry_distribution.head(10).plot.bar()"
      ],
      "metadata": {
        "colab": {
          "base_uri": "https://localhost:8080/",
          "height": 564
        },
        "id": "QzhT3xjSb01f",
        "outputId": "95212447-142d-467f-d1ca-6c04b57d5191"
      },
      "execution_count": null,
      "outputs": [
        {
          "output_type": "execute_result",
          "data": {
            "text/plain": [
              "<Axes: xlabel='COUNTRY'>"
            ]
          },
          "metadata": {},
          "execution_count": 19
        },
        {
          "output_type": "display_data",
          "data": {
            "text/plain": [
              "<Figure size 640x480 with 1 Axes>"
            ],
            "image/png": "[encoded data removed]"
          },
          "metadata": {}
        }
      ]
    },
    {
      "cell_type": "code",
      "source": [
        "df_company['COUNTRY'].value_counts().head(1)"
      ],
      "metadata": {
        "colab": {
          "base_uri": "https://localhost:8080/",
          "height": 147
        },
        "id": "jFPi1inRdKMS",
        "outputId": "5a427318-ed85-4d82-8bca-0e21feb1595e"
      },
      "execution_count": null,
      "outputs": [
        {
          "output_type": "execute_result",
          "data": {
            "text/plain": [
              "COUNTRY\n",
              "United States    660\n",
              "Name: count, dtype: int64"
            ],
            "text/html": [
              "<div>\n",
              "<style scoped>\n",
              "    .dataframe tbody tr th:only-of-type {\n",
              "        vertical-align: middle;\n",
              "    }\n",
              "\n",
              "    .dataframe tbody tr th {\n",
              "        vertical-align: top;\n",
              "    }\n",
              "\n",
              "    .dataframe thead th {\n",
              "        text-align: right;\n",
              "    }\n",
              "</style>\n",
              "<table border=\"1\" class=\"dataframe\">\n",
              "  <thead>\n",
              "    <tr style=\"text-align: right;\">\n",
              "      <th></th>\n",
              "      <th>count</th>\n",
              "    </tr>\n",
              "    <tr>\n",
              "      <th>COUNTRY</th>\n",
              "      <th></th>\n",
              "    </tr>\n",
              "  </thead>\n",
              "  <tbody>\n",
              "    <tr>\n",
              "      <th>United States</th>\n",
              "      <td>660</td>\n",
              "    </tr>\n",
              "  </tbody>\n",
              "</table>\n",
              "</div><br><label><b>dtype:</b> int64</label>"
            ]
          },
          "metadata": {},
          "execution_count": 20
        }
      ]
    },
    {
      "cell_type": "markdown",
      "source": [
        "3. Since the US have the highest number of companies, what is their distribution by US state?"
      ],
      "metadata": {
        "id": "CeH9HTOie0RW"
      }
    },
    {
      "cell_type": "code",
      "source": [
        "us_companies = df_company[df_company['COUNTRY'] == 'United States']\n",
        "state_distribution_us = us_companies['STATE'].value_counts()\n",
        "state_distribution_us.plot.barh()"
      ],
      "metadata": {
        "colab": {
          "base_uri": "https://localhost:8080/",
          "height": 447
        },
        "id": "cc_q1UThdiik",
        "outputId": "4e6167fa-b941-4d1c-ea7e-d1aee7bde2f1"
      },
      "execution_count": null,
      "outputs": [
        {
          "output_type": "execute_result",
          "data": {
            "text/plain": [
              "<Axes: ylabel='STATE'>"
            ]
          },
          "metadata": {},
          "execution_count": 21
        },
        {
          "output_type": "display_data",
          "data": {
            "text/plain": [
              "<Figure size 640x480 with 1 Axes>"
            ],
            "image/png": "[encoded data removed]"
          },
          "metadata": {}
        }
      ]
    },
    {
      "cell_type": "markdown",
      "source": [
        "**Cleaning data to get better insights**"
      ],
      "metadata": {
        "id": "6wGX92jGqGn_"
      }
    },
    {
      "cell_type": "code",
      "source": [
        "df_company['CLOSED_ON'] = df_company['CLOSED_ON'].replace(['—', 'N/A', ''], pd.NA)\n",
        "df_company['EXITED_ON'] = df_company['EXITED_ON'].replace(['—', 'N/A', ''], pd.NA)\n",
        "\n",
        "df_company['EXITED_ON'].head()"
      ],
      "metadata": {
        "id": "TWRYbcBLqGYA",
        "colab": {
          "base_uri": "https://localhost:8080/",
          "height": 241
        },
        "outputId": "33417709-5f14-4907-e9fa-db5121d5071b"
      },
      "execution_count": null,
      "outputs": [
        {
          "output_type": "execute_result",
          "data": {
            "text/plain": [
              "0    Nov 7, 2013\n",
              "1           <NA>\n",
              "2           <NA>\n",
              "3    Jul 9, 2018\n",
              "4           <NA>\n",
              "Name: EXITED_ON, dtype: object"
            ],
            "text/html": [
              "<div>\n",
              "<style scoped>\n",
              "    .dataframe tbody tr th:only-of-type {\n",
              "        vertical-align: middle;\n",
              "    }\n",
              "\n",
              "    .dataframe tbody tr th {\n",
              "        vertical-align: top;\n",
              "    }\n",
              "\n",
              "    .dataframe thead th {\n",
              "        text-align: right;\n",
              "    }\n",
              "</style>\n",
              "<table border=\"1\" class=\"dataframe\">\n",
              "  <thead>\n",
              "    <tr style=\"text-align: right;\">\n",
              "      <th></th>\n",
              "      <th>EXITED_ON</th>\n",
              "    </tr>\n",
              "  </thead>\n",
              "  <tbody>\n",
              "    <tr>\n",
              "      <th>0</th>\n",
              "      <td>Nov 7, 2013</td>\n",
              "    </tr>\n",
              "    <tr>\n",
              "      <th>1</th>\n",
              "      <td>&lt;NA&gt;</td>\n",
              "    </tr>\n",
              "    <tr>\n",
              "      <th>2</th>\n",
              "      <td>&lt;NA&gt;</td>\n",
              "    </tr>\n",
              "    <tr>\n",
              "      <th>3</th>\n",
              "      <td>Jul 9, 2018</td>\n",
              "    </tr>\n",
              "    <tr>\n",
              "      <th>4</th>\n",
              "      <td>&lt;NA&gt;</td>\n",
              "    </tr>\n",
              "  </tbody>\n",
              "</table>\n",
              "</div><br><label><b>dtype:</b> object</label>"
            ]
          },
          "metadata": {},
          "execution_count": 22
        }
      ]
    },
    {
      "cell_type": "markdown",
      "source": [
        "4. How many companies have exited and closed?\n",
        "\n"
      ],
      "metadata": {
        "id": "4cxJSIJrOmeZ"
      }
    },
    {
      "cell_type": "code",
      "source": [
        "exited_companies = df_company['EXITED_ON'].notna().sum()\n",
        "closed_companies = df_company['CLOSED_ON'].notna().sum()\n",
        "\n",
        "print(f\"Number of Exited Companies: {exited_companies}\")\n",
        "print(f\"Number of Closed Companies: {closed_companies}\")"
      ],
      "metadata": {
        "colab": {
          "base_uri": "https://localhost:8080/"
        },
        "id": "HN91JMOBnHJT",
        "outputId": "9b332b77-b935-4364-83ef-36486ca1c37f"
      },
      "execution_count": null,
      "outputs": [
        {
          "output_type": "stream",
          "name": "stdout",
          "text": [
            "Number of Exited Companies: 322\n",
            "Number of Closed Companies: 5\n"
          ]
        }
      ]
    },
    {
      "cell_type": "markdown",
      "source": [
        "5. What proportion of companies are still active, have exited, or have closed?"
      ],
      "metadata": {
        "id": "YPCm5Y5KOm6s"
      }
    },
    {
      "cell_type": "code",
      "source": [
        "conditions = [\n",
        "    (df_company['EXITED_ON'].isna()) & (df_company['CLOSED_ON'].isna()),\n",
        "    df_company['EXITED_ON'].notna(),\n",
        "    df_company['CLOSED_ON'].notna()]\n",
        "choices = ['Active', 'Exited', 'Closed']\n",
        "df_company['Status'] = np.select(conditions, choices, default='Unknown')\n",
        "\n",
        "status_proportions = df_company['Status'].value_counts(normalize=True) * 100\n",
        "formatted_proportions = status_proportions.map(\"{:.2f}%\".format)\n",
        "\n",
        "print(\"Proportion of Companies:\")\n",
        "print(formatted_proportions)"
      ],
      "metadata": {
        "colab": {
          "base_uri": "https://localhost:8080/"
        },
        "id": "NoAD1PmmorOS",
        "outputId": "389ac231-d527-4d6c-c56f-7fb31e53d779"
      },
      "execution_count": null,
      "outputs": [
        {
          "output_type": "stream",
          "name": "stdout",
          "text": [
            "Proportion of Companies:\n",
            "Status\n",
            "Active    67.40%\n",
            "Exited    32.20%\n",
            "Closed     0.40%\n",
            "Name: proportion, dtype: object\n"
          ]
        }
      ]
    },
    {
      "cell_type": "markdown",
      "source": [
        "# **INVESTMENT SHEET ANALYSIS**"
      ],
      "metadata": {
        "id": "m_WxinTXjYmP"
      }
    },
    {
      "cell_type": "markdown",
      "source": [
        "Converting the currencies to USD."
      ],
      "metadata": {
        "id": "pvo0g3FsqRyv"
      }
    },
    {
      "cell_type": "code",
      "source": [
        "conversion_rates = {\n",
        "    '$': 1,\n",
        "    '€': 1.1,\n",
        "    '£': 1.3,\n",
        "    '¥': 0.007,\n",
        "    '₹': 0.012 }\n",
        "\n",
        "def convert_currency(value):\n",
        "    if pd.isna(value):\n",
        "        return None\n",
        "\n",
        "    value = str(value).replace(',', '')\n",
        "    currency_symbol = value[0]\n",
        "    amount = value[1:]\n",
        "\n",
        "    if currency_symbol in conversion_rates:\n",
        "        rate = conversion_rates[currency_symbol]\n",
        "        converted_amount = float(amount) * rate\n",
        "        return converted_amount\n",
        "\n",
        "    try:\n",
        "        return float(value)\n",
        "    except ValueError:\n",
        "        return None\n",
        "\n",
        "df_investment['MONEY_RAISED_USD'] = df_investment['MONEY_RAISED'].apply(convert_currency)\n",
        "\n",
        "print(df_investment[['MONEY_RAISED', 'MONEY_RAISED_USD']].head())"
      ],
      "metadata": {
        "id": "oLDu7LwkqRnG",
        "colab": {
          "base_uri": "https://localhost:8080/"
        },
        "outputId": "7345dbfe-5834-40ba-efcd-65f8979a73a5"
      },
      "execution_count": null,
      "outputs": [
        {
          "output_type": "stream",
          "name": "stdout",
          "text": [
            "     MONEY_RAISED  MONEY_RAISED_USD\n",
            "0    $250,000,000      2.500000e+08\n",
            "1     $50,000,000      5.000000e+07\n",
            "2      $6,000,000      6.000000e+06\n",
            "3     $10,000,000      1.000000e+07\n",
            "4  $1,000,000,000      1.000000e+09\n"
          ]
        }
      ]
    },
    {
      "cell_type": "markdown",
      "source": [
        "6. How many companies have received at least one round of investment?"
      ],
      "metadata": {
        "id": "oN1cLev0afDh"
      }
    },
    {
      "cell_type": "code",
      "source": [
        "invested_companies = df_investment['COMPANY_NAME'].nunique()\n",
        "print(invested_companies, 'companies have received at least one round of investment.')"
      ],
      "metadata": {
        "colab": {
          "base_uri": "https://localhost:8080/"
        },
        "id": "GoxL7tEO4anZ",
        "outputId": "7707369d-d095-421f-9c80-d384b566b9cb"
      },
      "execution_count": null,
      "outputs": [
        {
          "output_type": "stream",
          "name": "stdout",
          "text": [
            "935 companies have received at least one round of investment.\n"
          ]
        }
      ]
    },
    {
      "cell_type": "markdown",
      "source": [
        "7. What is the total amount raised by each company?"
      ],
      "metadata": {
        "id": "MrPn9AnZ4bH_"
      }
    },
    {
      "cell_type": "code",
      "source": [
        "total_raised_per_company = df_investment.groupby('COMPANY_NAME')['MONEY_RAISED_USD'].sum()\n",
        "total_raised_per_company.apply(lambda x: \"${:,.0f}\".format(x))"
      ],
      "metadata": {
        "id": "6n8jI4qWjalF",
        "colab": {
          "base_uri": "https://localhost:8080/",
          "height": 490
        },
        "outputId": "31d88d40-620a-418a-cb7f-67ed88db2542"
      },
      "execution_count": null,
      "outputs": [
        {
          "output_type": "execute_result",
          "data": {
            "text/plain": [
              "COMPANY_NAME\n",
              "1mg                           $93,620,000\n",
              "23andMe                      $819,853,320\n",
              "360VUZ                         $8,443,000\n",
              "4D Molecular Therapeutics    $171,999,995\n",
              "908 Devices                   $83,100,000\n",
              "                                 ...     \n",
              "monday.com                    $84,100,000\n",
              "nCino                        $374,755,790\n",
              "project44                    $155,500,000\n",
              "tabby                         $30,000,000\n",
              "ultimate.ai                   $28,553,000\n",
              "Name: MONEY_RAISED_USD, Length: 935, dtype: object"
            ],
            "text/html": [
              "<div>\n",
              "<style scoped>\n",
              "    .dataframe tbody tr th:only-of-type {\n",
              "        vertical-align: middle;\n",
              "    }\n",
              "\n",
              "    .dataframe tbody tr th {\n",
              "        vertical-align: top;\n",
              "    }\n",
              "\n",
              "    .dataframe thead th {\n",
              "        text-align: right;\n",
              "    }\n",
              "</style>\n",
              "<table border=\"1\" class=\"dataframe\">\n",
              "  <thead>\n",
              "    <tr style=\"text-align: right;\">\n",
              "      <th></th>\n",
              "      <th>MONEY_RAISED_USD</th>\n",
              "    </tr>\n",
              "    <tr>\n",
              "      <th>COMPANY_NAME</th>\n",
              "      <th></th>\n",
              "    </tr>\n",
              "  </thead>\n",
              "  <tbody>\n",
              "    <tr>\n",
              "      <th>1mg</th>\n",
              "      <td>$93,620,000</td>\n",
              "    </tr>\n",
              "    <tr>\n",
              "      <th>23andMe</th>\n",
              "      <td>$819,853,320</td>\n",
              "    </tr>\n",
              "    <tr>\n",
              "      <th>360VUZ</th>\n",
              "      <td>$8,443,000</td>\n",
              "    </tr>\n",
              "    <tr>\n",
              "      <th>4D Molecular Therapeutics</th>\n",
              "      <td>$171,999,995</td>\n",
              "    </tr>\n",
              "    <tr>\n",
              "      <th>908 Devices</th>\n",
              "      <td>$83,100,000</td>\n",
              "    </tr>\n",
              "    <tr>\n",
              "      <th>...</th>\n",
              "      <td>...</td>\n",
              "    </tr>\n",
              "    <tr>\n",
              "      <th>monday.com</th>\n",
              "      <td>$84,100,000</td>\n",
              "    </tr>\n",
              "    <tr>\n",
              "      <th>nCino</th>\n",
              "      <td>$374,755,790</td>\n",
              "    </tr>\n",
              "    <tr>\n",
              "      <th>project44</th>\n",
              "      <td>$155,500,000</td>\n",
              "    </tr>\n",
              "    <tr>\n",
              "      <th>tabby</th>\n",
              "      <td>$30,000,000</td>\n",
              "    </tr>\n",
              "    <tr>\n",
              "      <th>ultimate.ai</th>\n",
              "      <td>$28,553,000</td>\n",
              "    </tr>\n",
              "  </tbody>\n",
              "</table>\n",
              "<p>935 rows × 1 columns</p>\n",
              "</div><br><label><b>dtype:</b> object</label>"
            ]
          },
          "metadata": {},
          "execution_count": 32
        }
      ]
    },
    {
      "cell_type": "markdown",
      "source": [
        "8. What is the average and median amount raised in each funding type (e.g., Seed, Series A, Series B)?"
      ],
      "metadata": {
        "id": "DLaOuK1XagGu"
      }
    },
    {
      "cell_type": "code",
      "source": [
        "funding_type_stats = df_investment.groupby('FUNDING_TYPE')['MONEY_RAISED_USD'].agg(['mean', 'median'])\n",
        "funding_type_stats = df_investment.groupby('FUNDING_TYPE')['MONEY_RAISED_USD'].agg(['mean', 'median'])\n",
        "\n",
        "funding_type_stats = funding_type_stats.rename(\n",
        "    columns={\n",
        "        'mean': 'Average Amount Raised',\n",
        "        'median': 'Median Amount Raised' })\n",
        "\n",
        "funding_type_stats.plot(kind='bar', figsize=(10, 6))\n",
        "plt.title('Average and median amount raised by funding type')\n",
        "plt.xlabel('Funding type')\n",
        "plt.ylabel('Amount raised (USD)')\n",
        "plt.xticks(rotation=45, ha='right')\n",
        "plt.show()\n",
        "\n",
        "for col in ['Average Amount Raised', 'Median Amount Raised']:\n",
        "    funding_type_stats[col] = funding_type_stats[col].apply(lambda x: \"${:,.0f}\".format(x))\n",
        "print(funding_type_stats)"
      ],
      "metadata": {
        "id": "_BhYdOvBagaR",
        "colab": {
          "base_uri": "https://localhost:8080/",
          "height": 1000
        },
        "outputId": "6c30401c-6868-45e5-a66a-a66a9156adcb"
      },
      "execution_count": null,
      "outputs": [
        {
          "output_type": "display_data",
          "data": {
            "text/plain": [
              "<Figure size 1000x600 with 1 Axes>"
            ],
            "image/png": "[encoded data removed]"
          },
          "metadata": {}
        },
        {
          "output_type": "stream",
          "name": "stdout",
          "text": [
            "                         Average Amount Raised Median Amount Raised\n",
            "FUNDING_TYPE                                                       \n",
            "Angel                               $1,228,456             $650,000\n",
            "Convertible Note                   $63,995,367           $2,000,000\n",
            "Corporate Round                   $522,737,354         $105,000,000\n",
            "Debt Financing                    $136,506,218          $28,700,000\n",
            "Equity Crowdfunding                 $6,551,924           $2,860,000\n",
            "Funding Round                     $126,525,032           $8,476,000\n",
            "Grant                              $51,487,272           $1,600,000\n",
            "Initial Coin Offering             $412,972,727          $26,700,000\n",
            "Non-equity Assistance                  $78,500              $50,000\n",
            "Post-IPO Debt                   $1,051,942,857         $550,000,000\n",
            "Post-IPO Equity                   $540,118,624          $86,544,937\n",
            "Post-IPO Secondary              $1,445,087,500       $1,510,000,000\n",
            "Pre-Seed                              $359,450             $150,000\n",
            "Private Equity                    $523,845,626         $200,000,000\n",
            "Product Crowdfunding                $2,338,667             $211,000\n",
            "Secondary Market                  $146,150,727          $85,000,000\n",
            "Seed                                $3,998,832           $1,500,000\n",
            "Series A                           $18,670,812           $9,000,000\n",
            "Series B                           $42,899,234          $21,600,000\n",
            "Series C                           $99,034,918          $40,000,000\n",
            "Series D                          $111,827,379          $65,000,000\n",
            "Series E                          $160,337,684          $90,000,000\n",
            "Series F                          $232,438,804         $112,500,000\n",
            "Series G                          $265,587,938         $127,500,000\n",
            "Series H                          $269,048,276         $150,000,000\n",
            "Series I                          $130,460,000         $150,000,000\n",
            "Series J                          $228,493,898          $72,000,000\n",
            "Venture - Series Unknown          $106,025,532          $15,670,796\n"
          ]
        }
      ]
    },
    {
      "cell_type": "markdown",
      "source": [
        "9. Which company has raised the most funding overall, and how much did it raise?\n"
      ],
      "metadata": {
        "id": "lOmjtH6jagpH"
      }
    },
    {
      "cell_type": "code",
      "source": [
        "most_funded_company = total_raised_per_company.idxmax()\n",
        "most_funded_amount = total_raised_per_company.max()\n",
        "\n",
        "print(f\"{most_funded_company} is the most funded company, with a total funding of ${most_funded_amount:,.0f}.\")"
      ],
      "metadata": {
        "id": "q-cU6pJ1ag8o",
        "colab": {
          "base_uri": "https://localhost:8080/"
        },
        "outputId": "029c87c1-787e-442d-8af5-a21791c001cc"
      },
      "execution_count": null,
      "outputs": [
        {
          "output_type": "stream",
          "name": "stdout",
          "text": [
            "Reliance Jio is the most funded company, with a total funding of $24,440,156,000.\n"
          ]
        }
      ]
    },
    {
      "cell_type": "markdown",
      "source": [
        "10. Which funding types are most common for companies at different investment stages (e.g., Seed, Early-Stage, Growth)?"
      ],
      "metadata": {
        "id": "1GGDlGLpahQb"
      }
    },
    {
      "cell_type": "code",
      "source": [
        "common_funding_stages = df_investment.groupby('INVESTMENT_STAGE')['FUNDING_TYPE'].value_counts()\n",
        "\n",
        "common_funding_stages"
      ],
      "metadata": {
        "id": "KWqp0w51TX-y",
        "colab": {
          "base_uri": "https://localhost:8080/",
          "height": 994
        },
        "outputId": "f5d9820d-5d56-4a7d-c7e7-aae5f3a38ee9"
      },
      "execution_count": null,
      "outputs": [
        {
          "output_type": "execute_result",
          "data": {
            "text/plain": [
              "INVESTMENT_STAGE     FUNDING_TYPE            \n",
              "Early Stage Venture  Series A                    854\n",
              "                     Series B                    701\n",
              "Late Stage Venture   Series C                    582\n",
              "                     Series D                    375\n",
              "                     Series E                    264\n",
              "                     Series F                    149\n",
              "                     Series G                     66\n",
              "                     Series H                     36\n",
              "                     Series J                     11\n",
              "                     Series I                      9\n",
              "Private Equity       Private Equity              170\n",
              "Seed                 Seed                        762\n",
              "                     Pre-Seed                    111\n",
              "                     Angel                        81\n",
              "—                    Venture - Series Unknown    558\n",
              "                     Debt Financing              242\n",
              "                     Post-IPO Equity             219\n",
              "                     Secondary Market            211\n",
              "                     Corporate Round             102\n",
              "                     Grant                        97\n",
              "                     Post-IPO Debt                82\n",
              "                     Convertible Note             80\n",
              "                     Funding Round                55\n",
              "                     Equity Crowdfunding          50\n",
              "                     Non-equity Assistance        37\n",
              "                     Initial Coin Offering        17\n",
              "                     Post-IPO Secondary           10\n",
              "                     Product Crowdfunding          6\n",
              "Name: count, dtype: int64"
            ],
            "text/html": [
              "<div>\n",
              "<style scoped>\n",
              "    .dataframe tbody tr th:only-of-type {\n",
              "        vertical-align: middle;\n",
              "    }\n",
              "\n",
              "    .dataframe tbody tr th {\n",
              "        vertical-align: top;\n",
              "    }\n",
              "\n",
              "    .dataframe thead th {\n",
              "        text-align: right;\n",
              "    }\n",
              "</style>\n",
              "<table border=\"1\" class=\"dataframe\">\n",
              "  <thead>\n",
              "    <tr style=\"text-align: right;\">\n",
              "      <th></th>\n",
              "      <th></th>\n",
              "      <th>count</th>\n",
              "    </tr>\n",
              "    <tr>\n",
              "      <th>INVESTMENT_STAGE</th>\n",
              "      <th>FUNDING_TYPE</th>\n",
              "      <th></th>\n",
              "    </tr>\n",
              "  </thead>\n",
              "  <tbody>\n",
              "    <tr>\n",
              "      <th rowspan=\"2\" valign=\"top\">Early Stage Venture</th>\n",
              "      <th>Series A</th>\n",
              "      <td>854</td>\n",
              "    </tr>\n",
              "    <tr>\n",
              "      <th>Series B</th>\n",
              "      <td>701</td>\n",
              "    </tr>\n",
              "    <tr>\n",
              "      <th rowspan=\"8\" valign=\"top\">Late Stage Venture</th>\n",
              "      <th>Series C</th>\n",
              "      <td>582</td>\n",
              "    </tr>\n",
              "    <tr>\n",
              "      <th>Series D</th>\n",
              "      <td>375</td>\n",
              "    </tr>\n",
              "    <tr>\n",
              "      <th>Series E</th>\n",
              "      <td>264</td>\n",
              "    </tr>\n",
              "    <tr>\n",
              "      <th>Series F</th>\n",
              "      <td>149</td>\n",
              "    </tr>\n",
              "    <tr>\n",
              "      <th>Series G</th>\n",
              "      <td>66</td>\n",
              "    </tr>\n",
              "    <tr>\n",
              "      <th>Series H</th>\n",
              "      <td>36</td>\n",
              "    </tr>\n",
              "    <tr>\n",
              "      <th>Series J</th>\n",
              "      <td>11</td>\n",
              "    </tr>\n",
              "    <tr>\n",
              "      <th>Series I</th>\n",
              "      <td>9</td>\n",
              "    </tr>\n",
              "    <tr>\n",
              "      <th>Private Equity</th>\n",
              "      <th>Private Equity</th>\n",
              "      <td>170</td>\n",
              "    </tr>\n",
              "    <tr>\n",
              "      <th rowspan=\"3\" valign=\"top\">Seed</th>\n",
              "      <th>Seed</th>\n",
              "      <td>762</td>\n",
              "    </tr>\n",
              "    <tr>\n",
              "      <th>Pre-Seed</th>\n",
              "      <td>111</td>\n",
              "    </tr>\n",
              "    <tr>\n",
              "      <th>Angel</th>\n",
              "      <td>81</td>\n",
              "    </tr>\n",
              "    <tr>\n",
              "      <th rowspan=\"14\" valign=\"top\">—</th>\n",
              "      <th>Venture - Series Unknown</th>\n",
              "      <td>558</td>\n",
              "    </tr>\n",
              "    <tr>\n",
              "      <th>Debt Financing</th>\n",
              "      <td>242</td>\n",
              "    </tr>\n",
              "    <tr>\n",
              "      <th>Post-IPO Equity</th>\n",
              "      <td>219</td>\n",
              "    </tr>\n",
              "    <tr>\n",
              "      <th>Secondary Market</th>\n",
              "      <td>211</td>\n",
              "    </tr>\n",
              "    <tr>\n",
              "      <th>Corporate Round</th>\n",
              "      <td>102</td>\n",
              "    </tr>\n",
              "    <tr>\n",
              "      <th>Grant</th>\n",
              "      <td>97</td>\n",
              "    </tr>\n",
              "    <tr>\n",
              "      <th>Post-IPO Debt</th>\n",
              "      <td>82</td>\n",
              "    </tr>\n",
              "    <tr>\n",
              "      <th>Convertible Note</th>\n",
              "      <td>80</td>\n",
              "    </tr>\n",
              "    <tr>\n",
              "      <th>Funding Round</th>\n",
              "      <td>55</td>\n",
              "    </tr>\n",
              "    <tr>\n",
              "      <th>Equity Crowdfunding</th>\n",
              "      <td>50</td>\n",
              "    </tr>\n",
              "    <tr>\n",
              "      <th>Non-equity Assistance</th>\n",
              "      <td>37</td>\n",
              "    </tr>\n",
              "    <tr>\n",
              "      <th>Initial Coin Offering</th>\n",
              "      <td>17</td>\n",
              "    </tr>\n",
              "    <tr>\n",
              "      <th>Post-IPO Secondary</th>\n",
              "      <td>10</td>\n",
              "    </tr>\n",
              "    <tr>\n",
              "      <th>Product Crowdfunding</th>\n",
              "      <td>6</td>\n",
              "    </tr>\n",
              "  </tbody>\n",
              "</table>\n",
              "</div><br><label><b>dtype:</b> int64</label>"
            ]
          },
          "metadata": {},
          "execution_count": 35
        }
      ]
    },
    {
      "cell_type": "markdown",
      "source": [
        "11. How does the amount of money raised vary by industry category?"
      ],
      "metadata": {
        "id": "Z6JKLyWwfjak"
      }
    },
    {
      "cell_type": "code",
      "source": [
        "merged_df = pd.merge(df_company[['COMPANY_NAME', 'CATEGORY']], df_investment, on='COMPANY_NAME')\n",
        "money_raised_by_industry = merged_df.groupby('CATEGORY')['MONEY_RAISED_USD'].sum()\n",
        "\n",
        "money_raised_by_industry.apply(lambda x: \"${:,.0f}\".format(x))"
      ],
      "metadata": {
        "id": "ehMFgiaNahiZ",
        "colab": {
          "base_uri": "https://localhost:8080/",
          "height": 490
        },
        "outputId": "08b90ed1-26b2-43ba-871d-1c444ed2728e"
      },
      "execution_count": null,
      "outputs": [
        {
          "output_type": "execute_result",
          "data": {
            "text/plain": [
              "CATEGORY\n",
              "3D Printing, 3D Technology, Precious Metals, Robotics                                                                                    $613,000,000\n",
              "3D Technology, Aerospace, Artificial Intelligence, Manufacturing, Space Travel                                                           $685,720,000\n",
              "3D Technology, Architecture, Artificial Intelligence, CAD, Information Technology, Machine Learning, Property Development, Software                $0\n",
              "3D Technology, Artificial Intelligence, Augmented Reality, Computer Vision, Machine Learning, Virtual Reality                             $13,350,000\n",
              "3D Technology, Augmented Reality, Media and Entertainment, Mobile Apps, Social Media, Video, Video Streaming, Virtual Reality              $8,443,000\n",
              "                                                                                                                                            ...      \n",
              "Social Media, Video, Video Games, Video Streaming                                                                                         $15,000,000\n",
              "Software                                                                                                                                  $17,000,000\n",
              "Subscription Service, Video                                                                                                                $4,050,000\n",
              "eSports, Online Games, PC Games, Video Games                                                                                              $31,725,189\n",
              "—                                                                                                                                      $1,206,400,000\n",
              "Name: MONEY_RAISED_USD, Length: 913, dtype: object"
            ],
            "text/html": [
              "<div>\n",
              "<style scoped>\n",
              "    .dataframe tbody tr th:only-of-type {\n",
              "        vertical-align: middle;\n",
              "    }\n",
              "\n",
              "    .dataframe tbody tr th {\n",
              "        vertical-align: top;\n",
              "    }\n",
              "\n",
              "    .dataframe thead th {\n",
              "        text-align: right;\n",
              "    }\n",
              "</style>\n",
              "<table border=\"1\" class=\"dataframe\">\n",
              "  <thead>\n",
              "    <tr style=\"text-align: right;\">\n",
              "      <th></th>\n",
              "      <th>MONEY_RAISED_USD</th>\n",
              "    </tr>\n",
              "    <tr>\n",
              "      <th>CATEGORY</th>\n",
              "      <th></th>\n",
              "    </tr>\n",
              "  </thead>\n",
              "  <tbody>\n",
              "    <tr>\n",
              "      <th>3D Printing, 3D Technology, Precious Metals, Robotics</th>\n",
              "      <td>$613,000,000</td>\n",
              "    </tr>\n",
              "    <tr>\n",
              "      <th>3D Technology, Aerospace, Artificial Intelligence, Manufacturing, Space Travel</th>\n",
              "      <td>$685,720,000</td>\n",
              "    </tr>\n",
              "    <tr>\n",
              "      <th>3D Technology, Architecture, Artificial Intelligence, CAD, Information Technology, Machine Learning, Property Development, Software</th>\n",
              "      <td>$0</td>\n",
              "    </tr>\n",
              "    <tr>\n",
              "      <th>3D Technology, Artificial Intelligence, Augmented Reality, Computer Vision, Machine Learning, Virtual Reality</th>\n",
              "      <td>$13,350,000</td>\n",
              "    </tr>\n",
              "    <tr>\n",
              "      <th>3D Technology, Augmented Reality, Media and Entertainment, Mobile Apps, Social Media, Video, Video Streaming, Virtual Reality</th>\n",
              "      <td>$8,443,000</td>\n",
              "    </tr>\n",
              "    <tr>\n",
              "      <th>...</th>\n",
              "      <td>...</td>\n",
              "    </tr>\n",
              "    <tr>\n",
              "      <th>Social Media, Video, Video Games, Video Streaming</th>\n",
              "      <td>$15,000,000</td>\n",
              "    </tr>\n",
              "    <tr>\n",
              "      <th>Software</th>\n",
              "      <td>$17,000,000</td>\n",
              "    </tr>\n",
              "    <tr>\n",
              "      <th>Subscription Service, Video</th>\n",
              "      <td>$4,050,000</td>\n",
              "    </tr>\n",
              "    <tr>\n",
              "      <th>eSports, Online Games, PC Games, Video Games</th>\n",
              "      <td>$31,725,189</td>\n",
              "    </tr>\n",
              "    <tr>\n",
              "      <th>—</th>\n",
              "      <td>$1,206,400,000</td>\n",
              "    </tr>\n",
              "  </tbody>\n",
              "</table>\n",
              "<p>913 rows × 1 columns</p>\n",
              "</div><br><label><b>dtype:</b> object</label>"
            ]
          },
          "metadata": {},
          "execution_count": 36
        }
      ]
    },
    {
      "cell_type": "markdown",
      "source": [
        "# **ACQUISITION SHEET ANALYSIS**"
      ],
      "metadata": {
        "id": "C3hk2govja4l"
      }
    },
    {
      "cell_type": "markdown",
      "source": [
        "Correcting the spelling mistake."
      ],
      "metadata": {
        "id": "2ThYh1OSq2k6"
      }
    },
    {
      "cell_type": "code",
      "source": [
        "df_acquisition['ACQUISITION_TYPE'] = df_acquisition['ACQUISITION_TYPE'].replace('Acquihire', 'Acquisition')"
      ],
      "metadata": {
        "id": "l5ghW9xXq4na"
      },
      "execution_count": null,
      "outputs": []
    },
    {
      "cell_type": "markdown",
      "source": [
        "12. Which company has the highest number of acquisitions, and what are the details of those acquisitions?"
      ],
      "metadata": {
        "id": "i0WdYPnKfxtL"
      }
    },
    {
      "cell_type": "code",
      "source": [
        "acquisitions_count = df_acquisition['COMPANY_NAME'].value_counts()\n",
        "top_acquisition_company = acquisitions_count.idxmax()\n",
        "acquisitions_count = df_acquisition['COMPANY_NAME'].value_counts()\n",
        "top_acquisition_company = acquisitions_count.idxmax()\n",
        "top_acquisition_count = acquisitions_count.max()\n",
        "\n",
        "print(top_acquisition_company, \"is the company that has the highest number of acquisitions, with\", top_acquisition_count, \"acquisitions.\")\n"
      ],
      "metadata": {
        "id": "4RmNWyACjpvc",
        "colab": {
          "base_uri": "https://localhost:8080/"
        },
        "outputId": "f1c24848-8379-4c55-c14b-99d6e72c76a9"
      },
      "execution_count": null,
      "outputs": [
        {
          "output_type": "stream",
          "name": "stdout",
          "text": [
            "Microsoft is the company that has the highest number of acquisitions, with 235 acquisitions.\n"
          ]
        }
      ]
    },
    {
      "cell_type": "markdown",
      "source": [
        "13. What proportion of companies with acquisitions has also received investment funding?\n"
      ],
      "metadata": {
        "id": "5Pt4obEygDRG"
      }
    },
    {
      "cell_type": "code",
      "source": [
        "acquired_companies = df_acquisition['COMPANY_NAME'].unique()\n",
        "invested_companies = df_investment['COMPANY_NAME'].unique()\n",
        "acquired_and_invested = len(set(acquired_companies).intersection(invested_companies)) / len(acquired_companies)\n",
        "\n",
        "percentage = acquired_and_invested * 100\n",
        "print(f\"Percentage of acquired companies that were also invested in: {percentage:.2f}%\")\n"
      ],
      "metadata": {
        "id": "U4Nsu7x2jsgb",
        "colab": {
          "base_uri": "https://localhost:8080/"
        },
        "outputId": "ffae686d-bb1e-476b-8934-c6bc1d26eeb9"
      },
      "execution_count": null,
      "outputs": [
        {
          "output_type": "stream",
          "name": "stdout",
          "text": [
            "Percentage of acquired companies that were also invested in: 94.16%\n"
          ]
        }
      ]
    },
    {
      "cell_type": "markdown",
      "source": [
        "14. Which industries has the most acquisitions?"
      ],
      "metadata": {
        "id": "OhZgdnZqgHf9"
      }
    },
    {
      "cell_type": "code",
      "source": [
        "merged_acquisition = pd.merge(df_company[['COMPANY_NAME', 'CATEGORY']], df_acquisition, on='COMPANY_NAME')\n",
        "\n",
        "industry_acquisition_counts = merged_acquisition['CATEGORY'].value_counts()\n",
        "top_acquisition_industry = industry_acquisition_counts.idxmax()\n",
        "\n",
        "print(top_acquisition_industry)"
      ],
      "metadata": {
        "id": "GqkbOS8DjvMc",
        "colab": {
          "base_uri": "https://localhost:8080/"
        },
        "outputId": "f4fc0165-bc21-4f54-ed43-4331a7d7e46f"
      },
      "execution_count": null,
      "outputs": [
        {
          "output_type": "stream",
          "name": "stdout",
          "text": [
            "Cloud Computing, Collaboration, Consumer Electronics, Developer Tools, Enterprise Software, Operating Systems, Software\n"
          ]
        }
      ]
    },
    {
      "cell_type": "markdown",
      "source": [
        "15. On average, how long after founding do companies start acquiring other companies?"
      ],
      "metadata": {
        "id": "BKAh6iAFjdmz"
      }
    },
    {
      "cell_type": "code",
      "source": [
        "df_acquisition['ANNOUNCED_DATE'] = pd.to_datetime(df_acquisition['ANNOUNCED_DATE'], errors='coerce')\n",
        "merged_acquisition = pd.merge(df_company[['COMPANY_NAME', 'FOUNDED_ON']], df_acquisition, on='COMPANY_NAME')\n",
        "\n",
        "merged_acquisition['FOUNDED_ON'] = pd.to_datetime(merged_acquisition['FOUNDED_ON'], errors='coerce')\n",
        "time_to_acquisition = (merged_acquisition['ANNOUNCED_DATE'] - merged_acquisition['FOUNDED_ON']).mean()\n",
        "\n",
        "years = time_to_acquisition.days // 365\n",
        "remaining_days = time_to_acquisition.days % 365\n",
        "\n",
        "print(f\"Time to acquisition: {years} years and {remaining_days} days\")"
      ],
      "metadata": {
        "id": "SxDJdp5xjyPM",
        "colab": {
          "base_uri": "https://localhost:8080/"
        },
        "outputId": "f38e3af3-e68b-4c7b-d282-3ee8775bc3a4"
      },
      "execution_count": null,
      "outputs": [
        {
          "output_type": "stream",
          "name": "stdout",
          "text": [
            "Time to acquisition: 38 years and 224 days\n"
          ]
        }
      ]
    },
    {
      "cell_type": "markdown",
      "source": [
        "# **EMPLOYEE SHEET ANALYSIS**"
      ],
      "metadata": {
        "id": "z-DkPRfSgrSk"
      }
    },
    {
      "cell_type": "markdown",
      "source": [
        "16. How many unique employees are there across all companies and what is the average number of employees per company?"
      ],
      "metadata": {
        "id": "qGNel4skgRWb"
      }
    },
    {
      "cell_type": "code",
      "source": [
        "unique_employees = df_employee['EMPLOYEE_MD5'].nunique()\n",
        "avg_employees_per_company = df_employee['COMPANY_NAME'].value_counts().mean()\n",
        "\n",
        "print(f'There are a total of {unique_employees} unique employees in the dataset.')\n",
        "print(f'On average, each company has approximately {avg_employees_per_company:.0f} employees.')"
      ],
      "metadata": {
        "id": "1w_hNxL3gUk7",
        "colab": {
          "base_uri": "https://localhost:8080/"
        },
        "outputId": "ed1a465c-f2d6-40fe-a770-d773f9d0c729"
      },
      "execution_count": null,
      "outputs": [
        {
          "output_type": "stream",
          "name": "stdout",
          "text": [
            "There are a total of 20702 unique employees in the dataset.\n",
            "On average, each company has approximately 21 employees.\n"
          ]
        }
      ]
    },
    {
      "cell_type": "markdown",
      "source": [
        "17. Which job titles are most common, and how many companies have employees with those titles?"
      ],
      "metadata": {
        "id": "N80Ztk5OgU4d"
      }
    },
    {
      "cell_type": "code",
      "source": [
        "job_title_counts = df_employee['JOB_TITLES'].value_counts()\n",
        "top_job_titles = job_title_counts.head(5)\n",
        "companies_with_top_titles = df_employee[df_employee['JOB_TITLES'].isin(top_job_titles.index)]['COMPANY_NAME'].nunique()\n",
        "\n",
        "print(\"\\nTop 5 Most Frequent Job Titles:\")\n",
        "print(top_job_titles.to_string())\n",
        "print(f\"\\nThese top 5 job titles are found in {companies_with_top_titles} unique companies.\")"
      ],
      "metadata": {
        "id": "CVlfSitQiJQ_",
        "colab": {
          "base_uri": "https://localhost:8080/"
        },
        "outputId": "af1c8504-0510-4f34-f554-4edd2373dd3b"
      },
      "execution_count": null,
      "outputs": [
        {
          "output_type": "stream",
          "name": "stdout",
          "text": [
            "\n",
            "Top 5 Most Frequent Job Titles:\n",
            "JOB_TITLES\n",
            "Software Engineer           510\n",
            "Product Manager             232\n",
            "Managing Director           186\n",
            "Senior Software Engineer    179\n",
            "CEO                         157\n",
            "\n",
            "These top 5 job titles are found in 295 unique companies.\n"
          ]
        }
      ]
    },
    {
      "cell_type": "markdown",
      "source": [
        "18. Which companies employ the highest number of employees with unique job titles?"
      ],
      "metadata": {
        "id": "KhXafBQrhW2B"
      }
    },
    {
      "cell_type": "code",
      "source": [
        "unique_titles_per_company = df_employee.groupby('COMPANY_NAME')['JOB_TITLES'].nunique()\n",
        "most_diverse_companies = unique_titles_per_company.nlargest(5)\n",
        "\n",
        "print('Top 5 companies with the most diverse job titles:\\n', most_diverse_companies)"
      ],
      "metadata": {
        "colab": {
          "base_uri": "https://localhost:8080/"
        },
        "id": "LwFoKw0Lhdn7",
        "outputId": "fa47e3cd-2e77-4704-e3a0-75670fc38c42"
      },
      "execution_count": null,
      "outputs": [
        {
          "output_type": "stream",
          "name": "stdout",
          "text": [
            "Top 5 companies with the most diverse job titles:\n",
            " COMPANY_NAME\n",
            "Microsoft    1130\n",
            "Google       1033\n",
            "Intel         538\n",
            "IBM           510\n",
            "Facebook      444\n",
            "Name: JOB_TITLES, dtype: int64\n"
          ]
        }
      ]
    },
    {
      "cell_type": "markdown",
      "source": [
        "19. How many companies employ people who attended top universities, and which top schools are most represented?\n",
        "\n",
        "We assume that the following schools are top universities: Harvard, Stanford, MIT, Oxford and Cambridge."
      ],
      "metadata": {
        "id": "HCQTsm_dhC4n"
      }
    },
    {
      "cell_type": "code",
      "source": [
        "top_universities = ['Harvard', 'Stanford', 'MIT', 'Oxford', 'Cambridge']\n",
        "top_school_employees = df_employee[df_employee['ATTENDED_SCHOOLS'].str.contains('|'.join(top_universities), na=False)]\n",
        "companies_with_top_schools = top_school_employees['COMPANY_NAME'].nunique()\n",
        "\n",
        "top_schools = top_school_employees['ATTENDED_SCHOOLS'].value_counts().head(5)\n",
        "\n",
        "print(f\"\\nEmployees who attended top universities like {', '.join(top_universities[:-1])}, and {top_universities[-1]} work in {companies_with_top_schools} unique companies.\")\n",
        "print(\"\\nTop 5 Most Frequent Schools Among Employees:\", top_schools)"
      ],
      "metadata": {
        "id": "2ioAvJeGhdKU",
        "colab": {
          "base_uri": "https://localhost:8080/"
        },
        "outputId": "1c5f0dec-bb36-4578-b6bb-902383a07688"
      },
      "execution_count": null,
      "outputs": [
        {
          "output_type": "stream",
          "name": "stdout",
          "text": [
            "\n",
            "Employees who attended top universities like Harvard, Stanford, MIT, Oxford, and Cambridge work in 322 unique companies.\n",
            "\n",
            "Top 5 Most Frequent Schools Among Employees: ATTENDED_SCHOOLS\n",
            "Stanford University                            159\n",
            "Massachusetts Institute of Technology - MIT     92\n",
            "Harvard University                              57\n",
            "Harvard Business School                         41\n",
            "University of Oxford                            40\n",
            "Name: count, dtype: int64\n"
          ]
        }
      ]
    }
  ]
}